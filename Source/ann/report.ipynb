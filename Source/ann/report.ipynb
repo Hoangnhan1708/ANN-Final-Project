{
  "cells": [
    {
      "cell_type": "markdown",
      "metadata": {
        "id": "GY0hf0SNaQ9b"
      },
      "source": [
        "# Group information"
      ]
    },
    {
      "cell_type": "markdown",
      "metadata": {
        "id": "lVp07-YoaTnY"
      },
      "source": [
        "## List of members and Assignments\n",
        "\n",
        "| Student ID | Name | Tasks |\n",
        "| ----------|-------|--------------|\n",
        "| 21120402 | Trương Hoàng Nhân | ... |\n",
        "| 21120458 | Nguyễn Huy Hoàng | ... |\n"
      ]
    },
    {
      "cell_type": "markdown",
      "metadata": {
        "id": "6Dl7uj8hyWdZ"
      },
      "source": [
        "# Set up system\n",
        "\n",
        "And running Mini-CNN for runnability testing."
      ]
    },
    {
      "cell_type": "code",
      "execution_count": 1,
      "metadata": {
        "colab": {
          "base_uri": "https://localhost:8080/"
        },
        "id": "oOoGG1KsQW2q",
        "outputId": "59b61124-9ba5-4697-c012-8734c3ebbfe1"
      },
      "outputs": [
        {
          "output_type": "stream",
          "name": "stdout",
          "text": [
            "Mounted at /content/drive\n"
          ]
        }
      ],
      "source": [
        "from google.colab import drive\n",
        "drive.mount('/content/drive')"
      ]
    },
    {
      "cell_type": "markdown",
      "metadata": {
        "id": "3EXqbXsNlpOF"
      },
      "source": [
        "Check CUDA compiler version"
      ]
    },
    {
      "cell_type": "code",
      "execution_count": null,
      "metadata": {
        "colab": {
          "base_uri": "https://localhost:8080/"
        },
        "id": "HTZtGIK6lsFo",
        "outputId": "b0481d4a-3b96-4256-f560-832b614169da"
      },
      "outputs": [
        {
          "output_type": "stream",
          "name": "stdout",
          "text": [
            "nvcc: NVIDIA (R) Cuda compiler driver\n",
            "Copyright (c) 2005-2023 NVIDIA Corporation\n",
            "Built on Tue_Aug_15_22:02:13_PDT_2023\n",
            "Cuda compilation tools, release 12.2, V12.2.140\n",
            "Build cuda_12.2.r12.2/compiler.33191640_0\n"
          ]
        }
      ],
      "source": [
        "!nvcc --version"
      ]
    },
    {
      "cell_type": "code",
      "execution_count": 2,
      "metadata": {
        "colab": {
          "base_uri": "https://localhost:8080/"
        },
        "id": "f7t9u318fftE",
        "outputId": "cf928936-1324-4e6b-fe02-52e29e93dc15"
      },
      "outputs": [
        {
          "output_type": "stream",
          "name": "stdout",
          "text": [
            "/content/drive/MyDrive/Parallel_Programming/Final_project\n"
          ]
        }
      ],
      "source": [
        "%cd /content/drive/MyDrive/Parallel_Programming/Final_project/"
      ]
    },
    {
      "cell_type": "code",
      "execution_count": 3,
      "metadata": {
        "colab": {
          "base_uri": "https://localhost:8080/"
        },
        "id": "evDP9_tyfQ8o",
        "outputId": "35598602-a896-40b4-d106-f33b35971fc8"
      },
      "outputs": [
        {
          "output_type": "stream",
          "name": "stdout",
          "text": [
            "Cloning into 'ANN-Final-Project'...\n",
            "remote: Enumerating objects: 2018, done.\u001b[K\n",
            "remote: Counting objects: 100% (81/81), done.\u001b[K\n",
            "remote: Compressing objects: 100% (45/45), done.\u001b[K\n",
            "remote: Total 2018 (delta 46), reused 55 (delta 25), pack-reused 1937 (from 1)\u001b[K\n",
            "Receiving objects: 100% (2018/2018), 50.56 MiB | 14.75 MiB/s, done.\n",
            "Resolving deltas: 100% (382/382), done.\n",
            "Updating files: 100% (1779/1779), done.\n"
          ]
        }
      ],
      "source": [
        "!git clone https://github.com/Hoangnhan1708/ANN-Final-Project.git"
      ]
    },
    {
      "cell_type": "markdown",
      "metadata": {
        "id": "T9NMNO24aAer"
      },
      "source": [
        "Set the location to the `CNN_Parallelization` directory as example below"
      ]
    },
    {
      "cell_type": "code",
      "execution_count": 4,
      "metadata": {
        "id": "6s2sPf8pZgql"
      },
      "outputs": [],
      "source": [
        "#projectDirRootName = \"path/to/CNN_Parallelization/\" # Change to correct localtion of CNN_Parallelization directory\n",
        "projectDirRootName = \"/content/drive/MyDrive/Parallel_Programming/Final_project/ANN-Final-Project/\""
      ]
    },
    {
      "cell_type": "markdown",
      "metadata": {
        "id": "pHZ3gkmah9Xr"
      },
      "source": [
        "## Compile executable file\n",
        "\n",
        "Set up for compiling demo.exe. If the demo.exe has been put in the correct location: skip belows cell until you have met cell \"RUN THIS\". But you should re-complie and re-linking objects code again to receive the executable for sure."
      ]
    },
    {
      "cell_type": "code",
      "execution_count": 5,
      "metadata": {
        "colab": {
          "base_uri": "https://localhost:8080/"
        },
        "id": "bXSFDweYcJ-Q",
        "outputId": "be1b99da-f9e1-43f6-8464-51f90129a461"
      },
      "outputs": [
        {
          "output_type": "stream",
          "name": "stdout",
          "text": [
            "/content/drive/MyDrive/Parallel_Programming/Final_project/ANN-Final-Project/Source/ann\n",
            "CMakeLists.txt  \u001b[0m\u001b[01;34mdata\u001b[0m/                  LICENSE    report.ipynb  \u001b[01;34mtest\u001b[0m/             testImplement.h\n",
            "config.h        demo_Fashion_MNIST.cc  readme.md  \u001b[01;34msrc\u001b[0m/          testImplement.cc  \u001b[01;34mthird_party\u001b[0m/\n"
          ]
        }
      ],
      "source": [
        "%cd {projectDirRootName}Source/ann\n",
        "%ls"
      ]
    },
    {
      "cell_type": "code",
      "execution_count": null,
      "metadata": {
        "colab": {
          "base_uri": "https://localhost:8080/"
        },
        "id": "tXPh8r9WHBo5",
        "outputId": "61769423-efd3-417c-8e92-dbffa83119c8"
      },
      "outputs": [
        {
          "output_type": "stream",
          "name": "stdout",
          "text": [
            "/content/drive/MyDrive/Parallel_Programming/Final_project/ANN-Final-Project/Source/mini-dnn-cpp-master\n"
          ]
        }
      ],
      "source": [
        "%cd .."
      ]
    },
    {
      "cell_type": "code",
      "execution_count": 6,
      "metadata": {
        "colab": {
          "base_uri": "https://localhost:8080/"
        },
        "id": "YsjWN5AtcYcK",
        "outputId": "08f5c3eb-6fda-45ea-ccef-72aacc66a274"
      },
      "outputs": [
        {
          "output_type": "stream",
          "name": "stdout",
          "text": [
            "rm: cannot remove 'build': No such file or directory\n",
            "/content/drive/MyDrive/Parallel_Programming/Final_project/ANN-Final-Project/Source/ann/build\n"
          ]
        }
      ],
      "source": [
        "%rm -r build\n",
        "%mkdir build\n",
        "%cd build\n",
        "%ls"
      ]
    },
    {
      "cell_type": "code",
      "execution_count": 7,
      "metadata": {
        "colab": {
          "base_uri": "https://localhost:8080/"
        },
        "id": "4mc2YkdAqW1_",
        "outputId": "84420934-deb4-4a68-8244-b4a0b4488be2"
      },
      "outputs": [
        {
          "output_type": "stream",
          "name": "stdout",
          "text": [
            "\u001b[0mCMake Deprecation Warning at CMakeLists.txt:1 (cmake_minimum_required):\n",
            "  Compatibility with CMake < 3.10 will be removed from a future version of\n",
            "  CMake.\n",
            "\n",
            "  Update the VERSION argument <min> value.  Or, use the <min>...<max> syntax\n",
            "  to tell CMake that the project requires at least <min> but has been updated\n",
            "  to work with policies introduced by <max> or earlier.\n",
            "\n",
            "\u001b[0m\n",
            "-- The CXX compiler identification is GNU 11.4.0\n",
            "-- The CUDA compiler identification is NVIDIA 12.2.140 with host compiler GNU 11.4.0\n",
            "-- Detecting CXX compiler ABI info\n",
            "-- Detecting CXX compiler ABI info - done\n",
            "-- Check for working CXX compiler: /usr/bin/c++ - skipped\n",
            "-- Detecting CXX compile features\n",
            "-- Detecting CXX compile features - done\n",
            "-- Detecting CUDA compiler ABI info\n",
            "-- Detecting CUDA compiler ABI info - done\n",
            "-- Check for working CUDA compiler: /usr/local/cuda/bin/nvcc - skipped\n",
            "-- Detecting CUDA compile features\n",
            "-- Detecting CUDA compile features - done\n",
            "-- Configuring done (5.8s)\n",
            "-- Generating done (0.4s)\n",
            "-- Build files have been written to: /content/drive/MyDrive/Parallel_Programming/Final_project/ANN-Final-Project/Source/ann/build\n"
          ]
        }
      ],
      "source": [
        "!cmake .."
      ]
    },
    {
      "cell_type": "code",
      "execution_count": 18,
      "metadata": {
        "colab": {
          "base_uri": "https://localhost:8080/"
        },
        "id": "FdwIP5bieHpm",
        "outputId": "55799fec-eb39-47c2-8abf-4ee61aa10355"
      },
      "outputs": [
        {
          "output_type": "stream",
          "name": "stdout",
          "text": [
            "[ -7%] \u001b[32mBuilding CXX object src/CMakeFiles/MiniDNNLib.dir/layer/fully_connected.cc.o\u001b[0m\n",
            "[  0%] \u001b[32m\u001b[1mLinking CXX static library libMiniDNNLib.a\u001b[0m\n",
            "[ 61%] Built target MiniDNNLib\n",
            "[ 69%] \u001b[32m\u001b[1mLinking CXX executable demo\u001b[0m\n",
            "[ 84%] Built target demo\n"
          ]
        }
      ],
      "source": [
        "!make"
      ]
    },
    {
      "cell_type": "markdown",
      "metadata": {
        "id": "NpnwvdMtBKL8"
      },
      "source": [
        "## RUN THIS"
      ]
    },
    {
      "cell_type": "markdown",
      "metadata": {
        "id": "0_gyYvtHBRI4"
      },
      "source": [
        "Run the `./demo.exe` for activating LeNet-5 running on the test set. The `demo.exe` can run with multiple version of Convolutional layer (currently there are 3 versions which are indexed from 0 to 3) on the same test set, by passing follwing arguments:\n",
        "\n",
        "- First argument: the index of the first version you want to execute.\n",
        "- Second argument: the index of final version that `demo.exe` will implement.\n",
        "- Third argument: if `0`, the `demo.exe` only executes the first version. If `1`, the `demo.exe` executes all versions from first one to the final one.\n",
        "\n",
        "Following is the list of implemented versions and theirs index (The first and second arguments can gain below number):\n",
        "\n",
        "- `0` - The sequential version: The forward of Convolutional layer is sequential in the input rolling stage.\n",
        "- `1` - The first parallel version: The forward of Convolutional layer is parallelized in the input rolling stage.\n",
        "- `2` - The second parallel version: The forward of Convolutional layer is parallelizedd in the matrix multiplication between input features and layer's weights.\n",
        "- Any other number - The original implementation of Convolutional layer which is provided as is by authors of `mini-dnn-cpp` project.\n"
      ]
    },
    {
      "cell_type": "markdown",
      "source": [
        "### Version 0: Library version"
      ],
      "metadata": {
        "id": "0mMK3HFdNYPc"
      }
    },
    {
      "cell_type": "code",
      "source": [
        "%cd {projectDirRootName}/Source/ann/build\n",
        "%ls\n",
        "!chmod 755 demo\n",
        "!./demo 0 0 1\n",
        "# !./demo -1 2 1"
      ],
      "metadata": {
        "colab": {
          "base_uri": "https://localhost:8080/"
        },
        "id": "w6O5kKkNdQqG",
        "outputId": "9f93019e-30f2-4140-cb11-a8788a132144"
      },
      "execution_count": null,
      "outputs": [
        {
          "output_type": "stream",
          "name": "stdout",
          "text": [
            "/content/drive/MyDrive/Parallel_Programming/Final_project/ANN-Final-Project/Source/mini-dnn-cpp-master/build\n",
            "CMakeCache.txt  \u001b[0m\u001b[01;34mCMakeFiles\u001b[0m/  cmake_install.cmake  \u001b[01;32mdemo\u001b[0m*  Makefile  \u001b[01;34msrc\u001b[0m/\n",
            "../data/fashion-mnist/\n",
            "mnist train number: 60000\n",
            "mnist test number: 10000\n",
            "---------------------------Current Version 0----------------------------------\n",
            "---------Epochs 0----------\n",
            "0-th batch, loss: 2.33651\n",
            "50-th batch, loss: 1.67607\n",
            "100-th batch, loss: 1.02396\n",
            "150-th batch, loss: 0.819132\n",
            "200-th batch, loss: 0.687898\n",
            "250-th batch, loss: 0.712934\n",
            "300-th batch, loss: 0.721538\n",
            "350-th batch, loss: 0.661831\n",
            "400-th batch, loss: 0.649526\n",
            "450-th batch, loss: 0.628897\n",
            "Accuracy: 0.7888\n",
            "\n",
            "---------Epochs 1----------\n",
            "0-th batch, loss: 0.713357\n",
            "50-th batch, loss: 0.635713\n",
            "100-th batch, loss: 0.546469\n",
            "150-th batch, loss: 0.571192\n",
            "200-th batch, loss: 0.524243\n",
            "250-th batch, loss: 0.587108\n",
            "300-th batch, loss: 0.528695\n",
            "350-th batch, loss: 0.458974\n",
            "400-th batch, loss: 0.579662\n",
            "450-th batch, loss: 0.551308\n",
            "Accuracy: 0.814\n",
            "\n",
            "---------Epochs 2----------\n",
            "0-th batch, loss: 0.45979\n",
            "50-th batch, loss: 0.422498\n",
            "100-th batch, loss: 0.425947\n",
            "150-th batch, loss: 0.526918\n",
            "200-th batch, loss: 0.56915\n",
            "250-th batch, loss: 0.519103\n",
            "300-th batch, loss: 0.374844\n",
            "350-th batch, loss: 0.594759\n",
            "400-th batch, loss: 0.399112\n",
            "450-th batch, loss: 0.51701\n",
            "Accuracy: 0.8221\n",
            "\n",
            "---------Epochs 3----------\n",
            "0-th batch, loss: 0.431203\n",
            "50-th batch, loss: 0.498097\n",
            "100-th batch, loss: 0.423505\n",
            "150-th batch, loss: 0.474929\n",
            "200-th batch, loss: 0.460686\n",
            "250-th batch, loss: 0.422766\n",
            "300-th batch, loss: 0.382978\n",
            "350-th batch, loss: 0.450214\n",
            "400-th batch, loss: 0.457598\n",
            "450-th batch, loss: 0.388235\n",
            "Accuracy: 0.833\n",
            "\n",
            "---------Epochs 4----------\n",
            "0-th batch, loss: 0.376183\n",
            "50-th batch, loss: 0.289445\n",
            "100-th batch, loss: 0.525802\n",
            "150-th batch, loss: 0.507226\n",
            "200-th batch, loss: 0.508557\n",
            "250-th batch, loss: 0.418987\n",
            "300-th batch, loss: 0.453597\n",
            "350-th batch, loss: 0.557884\n",
            "400-th batch, loss: 0.353811\n",
            "450-th batch, loss: 0.354302\n",
            "Accuracy: 0.8441\n",
            "\n",
            "Train time: 791822\n"
          ]
        }
      ]
    },
    {
      "cell_type": "markdown",
      "source": [
        "~13phút."
      ],
      "metadata": {
        "id": "aa5OcG6KHPdn"
      }
    },
    {
      "cell_type": "markdown",
      "source": [
        "### Version 1: Sequential version"
      ],
      "metadata": {
        "id": "-hRMnvkgNmoo"
      }
    },
    {
      "cell_type": "code",
      "execution_count": null,
      "metadata": {
        "colab": {
          "base_uri": "https://localhost:8080/"
        },
        "id": "xUKBF8M3fVCs",
        "outputId": "b309ecfb-81dd-44b1-a2d1-eecf11a6aea1"
      },
      "outputs": [
        {
          "output_type": "stream",
          "name": "stdout",
          "text": [
            "/content/drive/MyDrive/Parallel_Programming/Final_project/ANN-Final-Project/Source/mini-dnn-cpp-master/build\n",
            "CMakeCache.txt  \u001b[0m\u001b[01;34mCMakeFiles\u001b[0m/  cmake_install.cmake  \u001b[01;32mdemo\u001b[0m*  Makefile  \u001b[01;34msrc\u001b[0m/\n",
            "../data/fashion-mnist/\n",
            "mnist train number: 60000\n",
            "mnist test number: 10000\n",
            "---------------------------Current Version 1----------------------------------\n",
            "---------Epochs 0----------\n",
            "0-th batch, loss: 2.33651\n",
            "50-th batch, loss: 1.67607\n",
            "100-th batch, loss: 1.02393\n",
            "150-th batch, loss: 0.819054\n",
            "200-th batch, loss: 0.687945\n",
            "250-th batch, loss: 0.713016\n",
            "300-th batch, loss: 0.721229\n",
            "350-th batch, loss: 0.661694\n",
            "400-th batch, loss: 0.649563\n",
            "450-th batch, loss: 0.628735\n",
            "Weights changed in epoch 0\n",
            "Accuracy: 0.7886\n",
            "\n",
            "---------Epochs 1----------\n",
            "0-th batch, loss: 0.713293\n",
            "50-th batch, loss: 0.635797\n",
            "100-th batch, loss: 0.546579\n",
            "150-th batch, loss: 0.571036\n",
            "200-th batch, loss: 0.524141\n",
            "250-th batch, loss: 0.587347\n",
            "300-th batch, loss: 0.528953\n",
            "350-th batch, loss: 0.459042\n",
            "400-th batch, loss: 0.579811\n",
            "450-th batch, loss: 0.551041\n",
            "Weights changed in epoch 1\n",
            "Accuracy: 0.8144\n",
            "\n",
            "---------Epochs 2----------\n",
            "0-th batch, loss: 0.459864\n",
            "50-th batch, loss: 0.422264\n",
            "100-th batch, loss: 0.426138\n",
            "150-th batch, loss: 0.526735\n",
            "200-th batch, loss: 0.569679\n",
            "250-th batch, loss: 0.518719\n",
            "300-th batch, loss: 0.374967\n",
            "350-th batch, loss: 0.59453\n",
            "400-th batch, loss: 0.398778\n",
            "450-th batch, loss: 0.517285\n",
            "Weights changed in epoch 2\n",
            "Accuracy: 0.8223\n",
            "\n",
            "---------Epochs 3----------\n",
            "0-th batch, loss: 0.430869\n",
            "50-th batch, loss: 0.497433\n",
            "100-th batch, loss: 0.423386\n",
            "150-th batch, loss: 0.474556\n",
            "200-th batch, loss: 0.460584\n",
            "250-th batch, loss: 0.423067\n",
            "300-th batch, loss: 0.383376\n",
            "350-th batch, loss: 0.450056\n",
            "400-th batch, loss: 0.457198\n",
            "450-th batch, loss: 0.388054\n",
            "Weights changed in epoch 3\n",
            "Accuracy: 0.8334\n",
            "\n",
            "---------Epochs 4----------\n",
            "0-th batch, loss: 0.374873\n",
            "50-th batch, loss: 0.290061\n",
            "100-th batch, loss: 0.526577\n",
            "150-th batch, loss: 0.506724\n",
            "200-th batch, loss: 0.508704\n",
            "250-th batch, loss: 0.419543\n",
            "300-th batch, loss: 0.454745\n",
            "350-th batch, loss: 0.55885\n",
            "400-th batch, loss: 0.353617\n",
            "450-th batch, loss: 0.353735\n",
            "Weights changed in epoch 4\n",
            "Accuracy: 0.844\n",
            "\n",
            "Train time: 7.85495e+06\n"
          ]
        }
      ],
      "source": [
        "%cd {projectDirRootName}/Source/ann/build\n",
        "%ls\n",
        "!chmod 755 demo\n",
        "!./demo 1 1 1\n",
        "# !./demo -1 2 1"
      ]
    },
    {
      "cell_type": "markdown",
      "source": [
        "~130,915.83 phút"
      ],
      "metadata": {
        "id": "DoaexLiT9JJd"
      }
    },
    {
      "cell_type": "markdown",
      "source": [
        "### Version 2: Parallel version (not optimized)"
      ],
      "metadata": {
        "id": "8fOMHXyVNrav"
      }
    },
    {
      "cell_type": "code",
      "execution_count": 19,
      "metadata": {
        "colab": {
          "base_uri": "https://localhost:8080/"
        },
        "id": "o9_ZMRIOOoic",
        "outputId": "06f60390-cd05-4075-c641-9b8275fbd15f"
      },
      "outputs": [
        {
          "output_type": "stream",
          "name": "stdout",
          "text": [
            "/content/drive/MyDrive/Parallel_Programming/Final_project/ANN-Final-Project/Source/ann/build\n",
            "CMakeCache.txt  \u001b[0m\u001b[01;34mCMakeFiles\u001b[0m/  cmake_install.cmake  \u001b[01;32mdemo\u001b[0m*  Makefile  \u001b[01;34msrc\u001b[0m/\n",
            "../data/fashion-mnist/\n",
            "mnist train number: 60000\n",
            "mnist test number: 10000\n",
            "---------------------------Current Version 2----------------------------------\n",
            "---------Epochs 0----------\n",
            "0-th batch, loss: 2.33651\n",
            "50-th batch, loss: 2.13046\n",
            "100-th batch, loss: 1.60348\n",
            "150-th batch, loss: 1.25736\n",
            "200-th batch, loss: 0.970255\n",
            "250-th batch, loss: 0.901808\n",
            "300-th batch, loss: 0.901171\n",
            "350-th batch, loss: 0.750359\n",
            "400-th batch, loss: 0.78029\n",
            "450-th batch, loss: 0.733773\n",
            "Accuracy: 0.7185\n",
            "\n",
            "---------Epochs 1----------\n",
            "0-th batch, loss: 0.83113\n",
            "50-th batch, loss: 0.743485\n",
            "100-th batch, loss: 0.671388\n",
            "150-th batch, loss: 0.681734\n",
            "200-th batch, loss: 0.630611\n",
            "250-th batch, loss: 0.688706\n",
            "300-th batch, loss: 0.672542\n",
            "350-th batch, loss: 0.540811\n",
            "400-th batch, loss: 0.653579\n",
            "450-th batch, loss: 0.651906\n",
            "Accuracy: 0.7833\n",
            "\n",
            "---------Epochs 2----------\n",
            "0-th batch, loss: 0.569321\n",
            "50-th batch, loss: 0.518681\n",
            "100-th batch, loss: 0.49839\n",
            "150-th batch, loss: 0.619087\n",
            "200-th batch, loss: 0.653663\n",
            "250-th batch, loss: 0.585941\n",
            "300-th batch, loss: 0.463206\n",
            "350-th batch, loss: 0.706548\n",
            "400-th batch, loss: 0.478278\n",
            "450-th batch, loss: 0.577617\n",
            "Accuracy: 0.8004\n",
            "\n",
            "---------Epochs 3----------\n",
            "0-th batch, loss: 0.53078\n",
            "50-th batch, loss: 0.571531\n",
            "100-th batch, loss: 0.470761\n",
            "150-th batch, loss: 0.540993\n",
            "200-th batch, loss: 0.554618\n",
            "250-th batch, loss: 0.430214\n",
            "300-th batch, loss: 0.432412\n",
            "350-th batch, loss: 0.524076\n",
            "400-th batch, loss: 0.540684\n",
            "450-th batch, loss: 0.436543\n",
            "Accuracy: 0.8108\n",
            "\n",
            "---------Epochs 4----------\n",
            "0-th batch, loss: 0.4233\n",
            "50-th batch, loss: 0.360086\n",
            "100-th batch, loss: 0.600404\n",
            "150-th batch, loss: 0.625802\n",
            "200-th batch, loss: 0.548454\n",
            "250-th batch, loss: 0.496537\n",
            "300-th batch, loss: 0.521035\n",
            "350-th batch, loss: 0.608725\n",
            "400-th batch, loss: 0.408935\n",
            "450-th batch, loss: 0.41683\n",
            "Accuracy: 0.8259\n",
            "\n",
            "Train time: 1.02079e+06\n"
          ]
        }
      ],
      "source": [
        "%cd {projectDirRootName}/Source/ann/build\n",
        "%ls\n",
        "!chmod 755 demo\n",
        "!./demo 2 2 1"
      ]
    },
    {
      "cell_type": "markdown",
      "source": [
        "~17 phút"
      ],
      "metadata": {
        "id": "pDMpR67ZHc0o"
      }
    },
    {
      "cell_type": "markdown",
      "source": [
        "### Version 3: Parallel version (optimized)"
      ],
      "metadata": {
        "id": "fuhVMMeZN1Ma"
      }
    },
    {
      "cell_type": "code",
      "source": [
        "%cd {projectDirRootName}/Source/ann/build\n",
        "%ls\n",
        "!chmod 755 demo\n",
        "!./demo 3 3 1"
      ],
      "metadata": {
        "colab": {
          "base_uri": "https://localhost:8080/"
        },
        "id": "C94Oavkl3Jxl",
        "outputId": "0cf16d2b-954b-4efb-e212-4b1eeaa3a569"
      },
      "execution_count": 20,
      "outputs": [
        {
          "output_type": "stream",
          "name": "stdout",
          "text": [
            "/content/drive/MyDrive/Parallel_Programming/Final_project/ANN-Final-Project/Source/ann/build\n",
            "CMakeCache.txt  \u001b[0m\u001b[01;34mCMakeFiles\u001b[0m/  cmake_install.cmake  \u001b[01;32mdemo\u001b[0m*  Makefile  \u001b[01;34msrc\u001b[0m/\n",
            "../data/fashion-mnist/\n",
            "mnist train number: 60000\n",
            "mnist test number: 10000\n",
            "---------------------------Current Version 3----------------------------------\n",
            "---------Epochs 0----------\n",
            "0-th batch, loss: 2.33651\n",
            "50-th batch, loss: 2.13046\n",
            "100-th batch, loss: 1.60348\n",
            "150-th batch, loss: 1.25736\n",
            "200-th batch, loss: 0.970255\n",
            "250-th batch, loss: 0.901808\n",
            "300-th batch, loss: 0.901171\n",
            "350-th batch, loss: 0.750359\n",
            "400-th batch, loss: 0.78029\n",
            "450-th batch, loss: 0.733773\n",
            "Accuracy: 0.7185\n",
            "\n",
            "---------Epochs 1----------\n",
            "0-th batch, loss: 0.83113\n",
            "50-th batch, loss: 0.743485\n",
            "100-th batch, loss: 0.671388\n",
            "150-th batch, loss: 0.681734\n",
            "200-th batch, loss: 0.630611\n",
            "250-th batch, loss: 0.688706\n",
            "300-th batch, loss: 0.672542\n",
            "350-th batch, loss: 0.540811\n",
            "400-th batch, loss: 0.653579\n",
            "450-th batch, loss: 0.651906\n",
            "Accuracy: 0.7833\n",
            "\n",
            "---------Epochs 2----------\n",
            "0-th batch, loss: 0.569321\n",
            "50-th batch, loss: 0.518681\n",
            "100-th batch, loss: 0.49839\n",
            "150-th batch, loss: 0.619087\n",
            "200-th batch, loss: 0.653663\n",
            "250-th batch, loss: 0.585941\n",
            "300-th batch, loss: 0.463206\n",
            "350-th batch, loss: 0.706548\n",
            "400-th batch, loss: 0.478278\n",
            "450-th batch, loss: 0.577617\n",
            "Accuracy: 0.8004\n",
            "\n",
            "---------Epochs 3----------\n",
            "0-th batch, loss: 0.53078\n",
            "50-th batch, loss: 0.571531\n",
            "100-th batch, loss: 0.470761\n",
            "150-th batch, loss: 0.540993\n",
            "200-th batch, loss: 0.554618\n",
            "250-th batch, loss: 0.430214\n",
            "300-th batch, loss: 0.432412\n",
            "350-th batch, loss: 0.524076\n",
            "400-th batch, loss: 0.540684\n",
            "450-th batch, loss: 0.436543\n",
            "Accuracy: 0.8108\n",
            "\n",
            "---------Epochs 4----------\n",
            "0-th batch, loss: 0.4233\n",
            "50-th batch, loss: 0.360086\n",
            "100-th batch, loss: 0.600404\n",
            "150-th batch, loss: 0.625802\n",
            "200-th batch, loss: 0.548454\n",
            "250-th batch, loss: 0.496537\n",
            "300-th batch, loss: 0.521035\n",
            "350-th batch, loss: 0.608725\n",
            "400-th batch, loss: 0.408935\n",
            "450-th batch, loss: 0.41683\n",
            "Accuracy: 0.8259\n",
            "\n",
            "Train time: 1.01668e+06\n"
          ]
        }
      ]
    },
    {
      "cell_type": "markdown",
      "source": [
        "~16 phút"
      ],
      "metadata": {
        "id": "UEjlQEPhIXN0"
      }
    },
    {
      "cell_type": "markdown",
      "metadata": {
        "id": "kdGh_rTRXK63"
      },
      "source": [
        "# Problem definition"
      ]
    },
    {
      "cell_type": "markdown",
      "metadata": {
        "id": "5hmNCFI1oazC"
      },
      "source": [
        "# Convolutional Layer - LeNet-5 Model\n",
        "\n",
        "As described in the previous seminar and slides, the Convolutional layer (Conv. layer for short) is the most basic and important architecture used in the Computer Vision fields. It can reduce the size of input images, as well as capture the lower to higher information of the image and transfer those knowlege to top layers of the model for downstream tasks.\n",
        "\n",
        "The Conv. layer uses the kernel matrix and convolution operation to achieve the task. However, the time complexity of that computation is really high, especially with large number of images and high quality images. As soon as GPU was utilized for parallelize the computing, people has found a way to speed up the Conv. layer implementation. This project try to use a small subset of CUDA API to test the parallelization capability of GPU in Conv. layer computing.\n",
        "\n",
        "We built LeNet-5 models with the configuration as suggested in project description. The below figure visualizes the details of LeNet-5."
      ]
    },
    {
      "cell_type": "markdown",
      "metadata": {
        "id": "wzDEOZRspDto"
      },
      "source": [
        "![](https://drive.google.com/uc?export=view&id=1OQGrV0-1fK5N5naB-JfvXeb0X_WzeDG1)"
      ]
    },
    {
      "cell_type": "markdown",
      "metadata": {
        "id": "sUv9gutpqSVm"
      },
      "source": [
        "## Basic idea"
      ]
    },
    {
      "cell_type": "markdown",
      "metadata": {
        "id": "T0fyYuuhqU9O"
      },
      "source": [
        "We use the given starter project [2] as the staring point for parallelizing the forward phase of Conv. layer. Here, the author uses the matrix multiplication between the weight matrix of Conv. layer and unrolled version of batch input images for computing output of Conv. layer, as shown in below image ([1])."
      ]
    },
    {
      "cell_type": "markdown",
      "metadata": {
        "id": "F8BdMkR-qz24"
      },
      "source": [
        "![](https://drive.google.com/uc?export=view&id=1XMlgD_H-7o6lfOp7WG_5DIXvrt7U-QWk)"
      ]
    },
    {
      "cell_type": "markdown",
      "metadata": {
        "id": "SnQZPzrYXTS7"
      },
      "source": [
        "## Input/Output and Terms"
      ]
    },
    {
      "cell_type": "markdown",
      "metadata": {
        "id": "p4w8O92wXrSq"
      },
      "source": [
        "### Input layout\n",
        "\n",
        "A mini-batch of multiple input images (input features) $X$ as the tensor has shape $(N, C, H, W)$ where:\n",
        "\n",
        "* $N$: number of samples in a mini-batch\n",
        "* $C$: number of input feature maps.\n",
        "* $H$: height of each input feature map (or simply just the height of each input image in pixels).\n",
        "* $W$: width of each input feature map (or simply just the weight of each input image in pixels)."
      ]
    },
    {
      "cell_type": "markdown",
      "metadata": {
        "id": "M2f_Bv2m54P_"
      },
      "source": [
        "### Output layout\n",
        "\n",
        "The output features after applying CNN to $X$. It is an array $Y$ as the tensor has shape $(N, M, H_\\text{out}, W_\\text{out})$ where:\n",
        "\n",
        "* $N$: number of samples in a mini-batch\n",
        "* $M$: number of output feature maps of a CNN layer.\n",
        "* $H_\\text{out}$: height of each output feature map (it is often that $H_\\text{out} = H - K + 1$).\n",
        "* $W_\\text{out}$: width of each output feature map (it is often that $W_\\text{out} = W - K + 1$)."
      ]
    },
    {
      "cell_type": "markdown",
      "metadata": {
        "id": "rWyhdqsj5_DD"
      },
      "source": [
        "### Filter-bank layout\n",
        "\n",
        "The matrix $W$ contains all filer maxtrix that is used for one CNN layer (or simply just the weigth matrix of a CNN layer).  It is a tensor has shape $(M, C, K, K)$ where:\n",
        "\n",
        "* $K$: the size of a filter matrix (or kernel matrix).\n",
        "\n",
        "With an input image has $C$ input feature maps (or $C$ color chanels) and the CNN layer produces $M$ output feature maps from that input feature maps, we need $C \\times M$ kernel matrix with size $K$."
      ]
    },
    {
      "cell_type": "markdown",
      "metadata": {
        "id": "qm02TxsL6CBN"
      },
      "source": [
        "### The Unrolled-X\n",
        "\n",
        "We unroll the matrix X. As a result, we can get all elements that are required for computing all output feature maps from a single input image, with just a single matrix multiplication step between $X$ and $W$. For now, just know that $X_\\text{unroll}$ is retrieved from $X$, and it has shape $(C, K, K, H_\\text{out}, W_\\text{out})$, where:\n",
        "\n",
        "* $(C, K, K)$: the \"height\" of $X_\\text{unroll}$. It is the number of elements in $X$ that we need to compute an output feature map element (that is $C \\times K \\times K$),\n",
        "* $(H_\\text{out}, W_\\text{out})$: the \"width\" of $X_\\text{unroll}$. It is the number of elements in an output feature map, that is $H_\\text{out} \\times W_\\text{out}$."
      ]
    },
    {
      "cell_type": "markdown",
      "metadata": {
        "id": "gRdIFwvWM7ux"
      },
      "source": [
        "## Contribution (Results)\n",
        "\n"
      ]
    },
    {
      "cell_type": "markdown",
      "metadata": {
        "id": "kJVs-ZQvNM4r"
      },
      "source": [
        "### <a name=\"tableResult\"></a>Table of Results of Implemented Version of LeNet-5 (Conv. Layer)"
      ]
    },
    {
      "cell_type": "markdown",
      "metadata": {
        "id": "Y8tsDOdBNHKf"
      },
      "source": [
        "| ID  | Program specification | Time execution - Forward only<a name=\"cite_ref-1\"></a>[<sup>[1]</sup>](#cite_note-1) (ms) | Test Accuracy | Time of running Test set<a name=\"cite_ref-2\"></a>[<sup>[2]</sup>](#cite_note-2) (ms) |\n",
        "| --- | --------------------- | ---------------------------------- | ----------------------- | - |\n",
        "| A0 | LeNet-5 - Original - MNIST || 0.9737 ||\n",
        "| **A1** | **LeNet-5 - Original - Fashion-MNSIT** | **$ \\approx 1040.63$** | **0.8297** | **78152.4** |\n",
        "| A2 | LeNet-5 - Original - Transpose Matrix Multiplication | $ \\approx 985.677$ | 0.8194 ||\n",
        "| **B0** | **LeNet-5 - Sequential (Im2Col) - ~~Transpose Matrix Multiplication~~** | **$ \\approx 1115.75 \\rightarrow 916.248$** | **0.8297** | **73255.4** |\n",
        "| C0 | LeNet-5 - Parallel Version 1 (Im2Col) - Get unrolled image matrix avoid naive copy | $ \\approx 696.307 $ | 0.8297 ||\n",
        "| **C1** | **LeNet-5 - Parallel Version 1 (Im2Col) - Same as (C0), but get unrolled image results directly from dynamic memory to Matrix object** | **$ \\approx 539.801 $** | **0.8297** | **41349.5** |\n",
        "| **D0** | **LeNet-5 - Parallel Version 2 (MatMul) - Save matrix while multiplying as column-major order** | | **0.8297** | **31260.9** |\n",
        "\n",
        "<a name=\"cite_note-1\"></a>1. [^](#cite_ref-1) : Avarage of all forward passes in first epoch.\n",
        "\n",
        "<a name=\"cite_note-2\"></a>2. [^](#cite_ref-2): The Test set contains 10000 samples. The results is the best one after re-run the executable files 10 times."
      ]
    },
    {
      "cell_type": "markdown",
      "metadata": {
        "id": "PE29-G9xfltj"
      },
      "source": [
        "# Version 0: Naive implementation (Sequential Version)"
      ]
    },
    {
      "cell_type": "markdown",
      "metadata": {
        "id": "9ayoMDnmU9up"
      },
      "source": [
        "## Experiment, verification, timing strategy"
      ]
    },
    {
      "cell_type": "markdown",
      "metadata": {
        "id": "Yy-EHVSwIg-9"
      },
      "source": [
        "![](https://drive.google.com/uc?export=view&id=1VrSjbh-X32nRMI0uwcH_hC-ejDFrEPgO)"
      ]
    },
    {
      "cell_type": "markdown",
      "metadata": {
        "id": "D7nrBQ18Bpo_"
      },
      "source": [
        "For all following experiments, we need to have these objects:\n",
        "\n",
        "1. **Weight matrix of LeNet-5**\n",
        "  \n",
        "  To save time for experimenting, we do not need to train the model again and again. We only need to pass the test set to the new version and get the test accuracy. To avoid repeating training and have proper ground truth weigth matrix, we train original version of the LeNet-5 on the full training set with standard configuration, and then save the model weights to file (As drawn in Pre-Train Phase in above figure).\n",
        "\n",
        "  For any new version of Convolutional layer, we only need to load that saved model weights from file to the model, then run on test set and record observed results (As drawn in Testing Phase in above figure).\n",
        "\n",
        "2. **Test cases**\n",
        "\n",
        "  In many cases, the accuracy of the test set is not enough for concluding if the new implementation of Convolutional layer is sufficient, or even worse it may lead to misleading results due to random process of the models. To verify the correctness of the new Convolutional layer, we have built 20 test cases for independent testing of forward step of Conv. layer.\n",
        "\n",
        "  The 20 test cases is built randomly. 10 of them has shape $(1, 28, 28)$ (the size of batch is not considered while doing test cases) which are the same shape of one input image of the first Conv. layer. 10 remaining test cases has shape $(6, 24, 24)$ which are the same shape of one input features map of the second Conv. layer. All of elements of each test case matrix are in range $[0, 255]$. The expected output of test cases is produced by passing them through the forward function of the Conv. layer of the original LeNet-5 version.\n",
        "\n",
        "  For each new version Conv. layer, we pass all 20 test cases through the forward step and then, compare the produced results with the expected output test cases (as drawn in purple ovals in the below figure). The pass/fail status of each test case is reported while the program is running.\n",
        "\n",
        "  All of test cases and theirs expected output is stored in `CNN_Parallelization/Source/mini-dnn-cpp-master/test` directory.\n",
        "\n",
        "The time measurement of each version is the time to forward all samples in the test cases. In other words, we measure how long the model can process and return the result of the given Fashion-MNIST test set."
      ]
    },
    {
      "cell_type": "markdown",
      "metadata": {
        "id": "BB8vlmqyHdcD"
      },
      "source": [
        "![](https://drive.google.com/uc?export=view&id=1XQFtDvNYVNP2CFcGI5lSTQAnpi1iMRIb)"
      ]
    },
    {
      "cell_type": "markdown",
      "metadata": {
        "id": "W-ABLNW0SBzj"
      },
      "source": [
        "## Implementation and Specification"
      ]
    },
    {
      "cell_type": "markdown",
      "metadata": {
        "id": "qzhduS3Zcge5"
      },
      "source": [
        "This version is implemented in the `conv.cc` file. We create `forwardVerion_0()` to activate this forward version, and `unroll()` as the simplified version of original unroll input features maps `im2col()`.\n",
        "\n",
        "The below is the pseudo-code of this implementation:\n",
        "\n",
        "```[C++]\n",
        "foreach input-feature c of image\n",
        "  foreach position (p, q) of each area\n",
        "    foreach possible-position-of-applied-kernel-area-KxK area of c\n",
        "      insert element (p, q) to X-unrolled\n",
        "```\n",
        "\n",
        "Simply speaking, we process each input feature $c$ ($c \\in [0, C)$) of an image. For each $c$, we want to collect elemen at position ($p, q$) ($p, q \\in [0, K)$) of the current area in input feature which is being applied kernel matrix. The ($p, q$) elements is inserted in the row $p \\times K + q$ of the X-unrolled matrix. We do the same for each next area when the kernel matrix is slided, which the next elements will be inserted in following columns of X-unrolled matrix.\n",
        "\n",
        "When we have done for an input feature $c$, we just go to the next row of X-unrolled matrix and repeat the second and third for loop as before."
      ]
    },
    {
      "cell_type": "markdown",
      "metadata": {
        "id": "TYctpl0GVdVJ"
      },
      "source": [
        "## Result"
      ]
    },
    {
      "cell_type": "markdown",
      "metadata": {
        "id": "I4R9RN5ZPT9D"
      },
      "source": [
        "Test accuracy and Testing time can be refered to [this table, version A1](#tableResult).\n",
        "\n",
        "Additionally, this version passed all the designated test cases."
      ]
    },
    {
      "cell_type": "markdown",
      "metadata": {
        "id": "H4_2QCbDQUQV"
      },
      "source": [
        "# Version 1: Basic Parallelize"
      ]
    },
    {
      "cell_type": "markdown",
      "metadata": {
        "id": "HxGO4fdTQfrX"
      },
      "source": [
        "## Basic idea"
      ]
    },
    {
      "cell_type": "markdown",
      "metadata": {
        "id": "65k7csmEQhkz"
      },
      "source": [
        "In the version 0, we can see that each time an $x$-th element belongs to an applied kernel matrix area $i$ has been inserted into the X-unrolled, that area $i$ has to wait until all other $x$-th elements of others area $j$ ($j \\geq i$) have also been inserted. We can seperate the insertion of each individual area by letting each thread processes an applied kernel matrix area from input features."
      ]
    },
    {
      "cell_type": "markdown",
      "metadata": {
        "id": "T6shgRTghuBS"
      },
      "source": [
        "## Implementation and Specification"
      ]
    },
    {
      "cell_type": "markdown",
      "metadata": {
        "id": "MciRT-3hhw0K"
      },
      "source": [
        "This version is implemented in the `conv.cc` and `cuda_utilities.cu` file. We create `forwardVersion_1()` to activate this forward version, and `unrollKernel_1()` as the parallelized kernel version of original unroll input features maps `im2col()`. `forwardVersion_1()` activate `unrollKernel_1()` by calling `unrollGPUWrapper()` in `cuda_utilities.cu`.\n",
        "\n",
        "This version parallelize the third for loop of above sequential version. Now, each thread only need to executes the second for loop, which means each thread inserts the input feature elements belong to the same area applied kernel matrix into the X-unrolled. Because there are $C$ input feature of each image, and there are $H_\\text{out} \\times W_\\text{out}$ possible area which can be applied kernel matrix, we need a grid contains $C \\times H_\\text{out} \\times W_\\text{out}$ threads."
      ]
    },
    {
      "cell_type": "markdown",
      "metadata": {
        "id": "6l0gSEGfTphC"
      },
      "source": [
        "## Result"
      ]
    },
    {
      "cell_type": "markdown",
      "metadata": {
        "id": "P7ouovfgTs9r"
      },
      "source": [
        "Test accuracy and Testing time can be refered to [this table, version C1](#tableResult).\n",
        "\n",
        "Additionally, this version passed all the designated test cases."
      ]
    },
    {
      "cell_type": "markdown",
      "metadata": {
        "id": "5TClW2rNSK2P"
      },
      "source": [
        "# Version 2: Matrix Multiplication Parallelization"
      ]
    },
    {
      "cell_type": "markdown",
      "metadata": {
        "id": "KjbivtwXSSKc"
      },
      "source": [
        "## Basic idea"
      ]
    },
    {
      "cell_type": "markdown",
      "metadata": {
        "id": "rJb93kfyST3Q"
      },
      "source": [
        "By seperating the insertion of each applied kernel matrix area in input features, we can speed up the execution a lot. However, there is still a major bottleneck in the forward step of Conv. layer after unrolling the input matrix: the matrix multiplication between the X-unrolled and weight matrix of the Conv. layer.\n",
        "\n",
        "After unrolling phase, it is common that we often need to multiply two big size matrix with each other. That is an opportunity to speed up the program by parallelizing the matrix multiplication."
      ]
    },
    {
      "cell_type": "markdown",
      "metadata": {
        "id": "HaCrUceuTj0N"
      },
      "source": [
        "## Implementation and Specification"
      ]
    },
    {
      "cell_type": "markdown",
      "metadata": {
        "id": "mROZktWShhW8"
      },
      "source": [
        "This version is implemented in the `conv.cc` and `cuda_utilities.cu` file. We create `forwardVersion_2()` to activate this forward version, and `matrixMultiplicationKernel_1()` as the parallelized kernel version of matrix multiplication. `forwardVersion_2()` activate `matrixMultiplicationKernel_1()` by calling `matrixMultiplicationGPUWrapper()` in `cuda_utilities.cu`.\n",
        "\n",
        "The basic idea of parallelized matrix multiplicatin we have used is shared tiled memory matrix multiplication (As implmeneted in Lab 2).\n",
        "\n",
        "To generalize for any multiplication of any size matrix, we check two following conditions [1, Chapter 4]:\n",
        "\n",
        "- If the thread belong to the valid element of the result matrix $Y$, we add result to that position in $Y$. Otherwise, we do not assign.\n",
        "- If the thread is transfering the valid element from $W$ or $X-unrolled$ to shared memory, we let it do that. If not, we assign that position in the shared memory as 0."
      ]
    },
    {
      "cell_type": "markdown",
      "metadata": {
        "id": "4dcZ5SMWT9Wz"
      },
      "source": [
        "## Result"
      ]
    },
    {
      "cell_type": "markdown",
      "metadata": {
        "id": "RJArI6GVT_cm"
      },
      "source": [
        "Test accuracy and Testing time can be refered to [this table, version D0](#tableResult).\n",
        "\n",
        "Additionally, this version passed all the designated test cases."
      ]
    },
    {
      "cell_type": "markdown",
      "metadata": {
        "id": "k55VcZYmV4Kn"
      },
      "source": [
        "# Reflection"
      ]
    },
    {
      "cell_type": "markdown",
      "metadata": {
        "id": "TF9V6BgqV65s"
      },
      "source": [
        "## Final results\n",
        "\n",
        "- Implement the simplified sequential version of Conv. Layer based on starter project, which is the stardard for further parallelization steps.\n",
        "- Implement two version of parallelized forward phase of Conv. Layer.\n",
        "- Post-Seminar modification: implement the independent test cases processes for more reliable correctness verification of forward phase of Conv. layer."
      ]
    },
    {
      "cell_type": "markdown",
      "metadata": {
        "id": "aQP1AxauWtbR"
      },
      "source": [
        "## Unsolved"
      ]
    },
    {
      "cell_type": "markdown",
      "metadata": {
        "id": "h40P6vDHWxBs"
      },
      "source": [
        "- Utilise the effectiveness of global and share memory pattern access of CUDA API.\n",
        "- Utilise the multiple executing streams of CUDA API.\n",
        "- Parallelize other layers of LeNet-5."
      ]
    },
    {
      "cell_type": "markdown",
      "metadata": {
        "id": "anC6mevVXDVd"
      },
      "source": [
        "## Difficulties\n",
        "\n",
        "- The CUDA driver cannot compile the Eigen library: We detach the source code which need the Matrix class and the CUDA source code into seperate files. The CUDA host and kernel execution is as normal functions and put in `cuda_utilities.cu` file, so that other ordinary source files can call wrapped CUDA function, and CUDA does not need to know about Eigen library.\n",
        "- Because of above problem, the data moving between Matrix class in normal source files and dynamic memory in CUDA source files can be cubersome and may cause bottleneck if we copy raw data from memory to a Matrix class object directly: We implement the CUDA part such that the Matrix class objects can get the result back directly through Map class, without need to do raw copying or transposing. This way-around solution is not straight forward and may cause unaligned or un-coalesced memory accessing, but it is much better than bottle neck of manually copying data between Matrix and dynamic memory.\n",
        "- Furious bug: CUDA API may make debug process more difficult. We often meet some trivial bugs (such as: uninitialized memory, reset memory, etc) but they are easily hidden below the execution of CUDA threads.\n",
        "- It is quite not trivial to describe by word the most detail implementation we have done with the source code.  "
      ]
    },
    {
      "cell_type": "markdown",
      "metadata": {
        "id": "jtkoRjztmhDA"
      },
      "source": [
        "# References"
      ]
    },
    {
      "cell_type": "markdown",
      "metadata": {
        "id": "td3NNqMInMp9"
      },
      "source": [
        "[1] D. Kirk and Wen-Mei Hwu, Programming massively parallel processors : a hands-on approach. Burlington, Massachusetts: Morgan Kaufmann Elsevier, 2017.\n",
        "\n",
        "[2] K. Han, “iamhankai/mini-dnn-cpp,” GitHub, Jan. 08, 2024. https://github.com/iamhankai/mini-dnn-cpp (accessed Jan. 13, 2024).\n",
        "‌"
      ]
    }
  ],
  "metadata": {
    "accelerator": "GPU",
    "colab": {
      "gpuType": "T4",
      "provenance": []
    },
    "kernelspec": {
      "display_name": "Python 3",
      "name": "python3"
    },
    "language_info": {
      "name": "python"
    }
  },
  "nbformat": 4,
  "nbformat_minor": 0
}